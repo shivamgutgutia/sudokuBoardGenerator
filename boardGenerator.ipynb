{
 "cells": [
  {
   "cell_type": "code",
   "execution_count": 5,
   "metadata": {},
   "outputs": [],
   "source": [
    "import numpy as np\n",
    "import matplotlib.pyplot as plt\n",
    "%matplotlib inline\n",
    "from IPython.display import display, clear_output"
   ]
  },
  {
   "cell_type": "code",
   "execution_count": 6,
   "metadata": {},
   "outputs": [],
   "source": [
    "\n",
    "def fillDiagonal(board):\n",
    "    def generateDiagonal():\n",
    "        arr=np.arange(1,10)\n",
    "        for i in range(3):\n",
    "            np.random.shuffle(arr)\n",
    "            yield arr.reshape((3,3))\n",
    "\n",
    "    out=generateDiagonal()\n",
    "    board[:3,:3]=next(out)\n",
    "    board[3:6,3:6]=next(out)\n",
    "    board[6:,6:]=next(out)\n",
    "    return(board)\n"
   ]
  },
  {
   "cell_type": "code",
   "execution_count": 14,
   "metadata": {},
   "outputs": [],
   "source": [
    "def solve(board):\n",
    "    def isValid(num,row,col,board):\n",
    "\n",
    "        #row check\n",
    "        rowCheck = num in board[row,:]\n",
    "\n",
    "        #column check\n",
    "        columnCheck = num in board[:,col]\n",
    "\n",
    "        #subgrid check\n",
    "        subgridCheck = num in board[3*(row//3):3*((row//3)+1),3*(col//3):3*((col//3)+1)]\n",
    "\n",
    "        if rowCheck or columnCheck or subgridCheck:\n",
    "            return False\n",
    "        return True \n",
    "    \n",
    "    def emptyCell(board):\n",
    "        for i in range(9):\n",
    "            for j in range(9):\n",
    "                if board[i,j]==0:\n",
    "                    return i,j\n",
    "                \n",
    "        return None\n",
    "\n",
    "    \n",
    "    def solveBoard(board):\n",
    "\n",
    "\n",
    "        location=emptyCell(board)\n",
    "        if not location:\n",
    "            return True\n",
    "        row,col=location\n",
    "\n",
    "        for num in range(1,10):\n",
    "            if(isValid(num,row,col,board)):\n",
    "                board[row,col]=num\n",
    "                if solveBoard(board):\n",
    "                    return True\n",
    "                else:\n",
    "                    board[row,col]=0\n",
    "\n",
    "        return False\n",
    "    \n",
    "    return solveBoard(board)\n",
    "      \n"
   ]
  },
  {
   "cell_type": "code",
   "execution_count": 16,
   "metadata": {},
   "outputs": [
    {
     "name": "stdout",
     "output_type": "stream",
     "text": [
      "[[6 5 9 1 3 2 4 7 8]\n",
      " [4 7 1 5 6 8 3 9 2]\n",
      " [3 2 8 7 4 9 1 5 6]\n",
      " [5 3 6 9 2 1 8 4 7]\n",
      " [7 9 4 6 8 5 2 3 1]\n",
      " [1 8 2 4 7 3 9 6 5]\n",
      " [9 6 3 2 1 7 5 8 4]\n",
      " [2 4 5 8 9 6 7 1 3]\n",
      " [8 1 7 3 5 4 6 2 9]]\n"
     ]
    }
   ],
   "source": [
    "board = np.zeros((9,9),dtype=int)\n",
    "while(not solve(fillDiagonal(board))):\n",
    "    pass\n",
    "print(board)\n"
   ]
  },
  {
   "cell_type": "code",
   "execution_count": null,
   "metadata": {},
   "outputs": [],
   "source": [
    "def "
   ]
  }
 ],
 "metadata": {
  "kernelspec": {
   "display_name": "Python 3",
   "language": "python",
   "name": "python3"
  },
  "language_info": {
   "codemirror_mode": {
    "name": "ipython",
    "version": 3
   },
   "file_extension": ".py",
   "mimetype": "text/x-python",
   "name": "python",
   "nbconvert_exporter": "python",
   "pygments_lexer": "ipython3",
   "version": "3.11.6"
  }
 },
 "nbformat": 4,
 "nbformat_minor": 2
}
