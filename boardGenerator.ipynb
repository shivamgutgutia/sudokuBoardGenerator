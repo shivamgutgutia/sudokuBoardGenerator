{
 "cells": [
  {
   "cell_type": "code",
   "execution_count": 72,
   "metadata": {},
   "outputs": [],
   "source": [
    "import numpy as np\n",
    "import matplotlib.pyplot as plt\n",
    "%matplotlib inline\n",
    "from IPython.display import display, clear_output"
   ]
  },
  {
   "cell_type": "code",
   "execution_count": 73,
   "metadata": {},
   "outputs": [],
   "source": [
    "\n",
    "def fillDiagonal(board):\n",
    "    def generateDiagonal():\n",
    "        arr=np.arange(1,10)\n",
    "        for i in range(3):\n",
    "            np.random.shuffle(arr)\n",
    "            yield arr.reshape((3,3))\n",
    "\n",
    "    out=generateDiagonal()\n",
    "    board[:3,:3]=next(out)\n",
    "    board[3:6,3:6]=next(out)\n",
    "    board[6:,6:]=next(out)\n",
    "    return(board)\n"
   ]
  },
  {
   "cell_type": "code",
   "execution_count": 74,
   "metadata": {},
   "outputs": [],
   "source": [
    "def isValid(num,row,col,board):\n",
    "\n",
    "        #row check\n",
    "        rowCheck = num in board[row,:]\n",
    "\n",
    "        #column check\n",
    "        columnCheck = num in board[:,col]\n",
    "\n",
    "        #subgrid check\n",
    "        subgridCheck = num in board[3*(row//3):3*((row//3)+1),3*(col//3):3*((col//3)+1)]\n",
    "\n",
    "        if rowCheck or columnCheck or subgridCheck:\n",
    "            return False\n",
    "        return True\n",
    "\n",
    "def emptyCell(board):\n",
    "        for i in range(9):\n",
    "            for j in range(9):\n",
    "                if board[i,j]==0:\n",
    "                    return i,j\n",
    "                \n",
    "        return None\n",
    "\n",
    "def solve(board):\n",
    "    location=emptyCell(board)\n",
    "    if not location:\n",
    "        return True\n",
    "    row,col=location\n",
    "\n",
    "    count=0\n",
    "    for num in range(1,10):\n",
    "        if(isValid(num,row,col,board)):\n",
    "            board[row,col]=num\n",
    "            if solve(board):\n",
    "                return True\n",
    "            else:\n",
    "                board[row,col]=0\n",
    "\n",
    "    return False\n",
    "\n",
    "def countSolve(board,count):\n",
    "    location=emptyCell(board)\n",
    "    if not location:\n",
    "        count[0]+=1\n",
    "        return\n",
    "    row,col=location\n",
    "    for num in range(1,10):\n",
    "        if(isValid(num,row,col,board)):\n",
    "            board[row,col]=num\n",
    "            if countSolve(board,count):\n",
    "                return True\n",
    "            else:\n",
    "                board[row,col]=0\n",
    "    \n",
    "      \n"
   ]
  },
  {
   "cell_type": "code",
   "execution_count": 75,
   "metadata": {},
   "outputs": [
    {
     "name": "stdout",
     "output_type": "stream",
     "text": [
      "[[7 2 8 3 1 6 5 4 9]\n",
      " [5 3 9 2 4 8 6 7 1]\n",
      " [1 4 6 5 9 7 2 3 8]\n",
      " [2 5 7 1 3 4 8 9 6]\n",
      " [6 9 1 8 7 5 3 2 4]\n",
      " [4 8 3 6 2 9 7 1 5]\n",
      " [9 6 2 7 5 1 4 8 3]\n",
      " [3 1 5 4 8 2 9 6 7]\n",
      " [8 7 4 9 6 3 1 5 2]]\n"
     ]
    }
   ],
   "source": [
    "board = np.zeros((9,9),dtype=int)\n",
    "while(not solve(fillDiagonal(board))):\n",
    "    pass\n",
    "print(board)\n"
   ]
  },
  {
   "cell_type": "code",
   "execution_count": 76,
   "metadata": {},
   "outputs": [
    {
     "name": "stdout",
     "output_type": "stream",
     "text": [
      "[[0 0 8 3 0 6 5 0 0]\n",
      " [5 0 9 2 0 0 6 7 1]\n",
      " [1 4 6 5 0 0 0 0 8]\n",
      " [2 0 0 0 0 0 8 9 0]\n",
      " [6 0 1 8 7 0 3 2 0]\n",
      " [0 0 3 6 2 9 7 0 5]\n",
      " [9 6 2 7 0 1 0 8 3]\n",
      " [3 0 0 0 8 0 9 6 0]\n",
      " [8 0 0 0 6 3 0 0 0]]\n",
      "[[7 2 8 3 1 6 5 4 9]\n",
      " [5 3 9 2 4 8 6 7 1]\n",
      " [1 4 6 5 9 7 2 3 8]\n",
      " [2 5 7 1 3 4 8 9 6]\n",
      " [6 9 1 8 7 5 3 2 4]\n",
      " [4 8 3 6 2 9 7 1 5]\n",
      " [9 6 2 7 5 1 4 8 3]\n",
      " [3 1 5 4 8 2 9 6 7]\n",
      " [8 7 4 9 6 3 1 5 2]]\n"
     ]
    }
   ],
   "source": [
    "\n",
    "def generateQuestion(solution,difficulty,count):\n",
    "    if difficulty == \"easy\":\n",
    "        n= np.random.randint(36,39)\n",
    "    elif difficulty == \"medium\":\n",
    "        n = np.random.randint(39,42)\n",
    "    else:\n",
    "        n = np.random.randint(42,46)\n",
    "\n",
    "    question = solution.flatten()\n",
    "    remove=np.random.choice(question.size,n,replace=False)\n",
    "    question[remove]=0\n",
    "    question = question.reshape(solution.shape)\n",
    "    countSolve(question.copy(),count)\n",
    "    return question\n",
    "\n",
    "while(True):\n",
    "    count=[0]\n",
    "    question = generateQuestion(board,\"easy\",count)\n",
    "    if count[0]==1:\n",
    "        print(question)\n",
    "        print(board)\n",
    "        break\n",
    "    \n",
    "\n"
   ]
  },
  {
   "cell_type": "code",
   "execution_count": null,
   "metadata": {},
   "outputs": [],
   "source": []
  }
 ],
 "metadata": {
  "kernelspec": {
   "display_name": "Python 3",
   "language": "python",
   "name": "python3"
  },
  "language_info": {
   "codemirror_mode": {
    "name": "ipython",
    "version": 3
   },
   "file_extension": ".py",
   "mimetype": "text/x-python",
   "name": "python",
   "nbconvert_exporter": "python",
   "pygments_lexer": "ipython3",
   "version": "3.11.6"
  }
 },
 "nbformat": 4,
 "nbformat_minor": 2
}
