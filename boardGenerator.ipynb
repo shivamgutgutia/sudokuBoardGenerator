{
 "cells": [
  {
   "cell_type": "code",
   "execution_count": 90,
   "metadata": {},
   "outputs": [],
   "source": [
    "import numpy as np\n",
    "import matplotlib.pyplot as plt\n",
    "%matplotlib inline\n",
    "from IPython.display import display, clear_output"
   ]
  },
  {
   "cell_type": "code",
   "execution_count": 91,
   "metadata": {},
   "outputs": [],
   "source": [
    "\n",
    "def fillDiagonal(board):\n",
    "    def generateDiagonal():\n",
    "        arr=np.arange(1,10)\n",
    "        for i in range(3):\n",
    "            np.random.shuffle(arr)\n",
    "            yield arr.reshape((3,3))\n",
    "\n",
    "    out=generateDiagonal()\n",
    "    board[:3,:3]=next(out)\n",
    "    board[3:6,3:6]=next(out)\n",
    "    board[6:,6:]=next(out)\n",
    "    return(board)\n"
   ]
  },
  {
   "cell_type": "code",
   "execution_count": 92,
   "metadata": {},
   "outputs": [],
   "source": [
    "def isValid(num,row,col,board):\n",
    "\n",
    "        #row check\n",
    "        rowCheck = num in board[row,:]\n",
    "\n",
    "        #column check\n",
    "        columnCheck = num in board[:,col]\n",
    "\n",
    "        #subgrid check\n",
    "        subgridCheck = num in board[3*(row//3):3*((row//3)+1),3*(col//3):3*((col//3)+1)]\n",
    "\n",
    "        if rowCheck or columnCheck or subgridCheck:\n",
    "            return False\n",
    "        return True\n",
    "\n",
    "def emptyCell(board):\n",
    "        for i in range(9):\n",
    "            for j in range(9):\n",
    "                if board[i,j]==0:\n",
    "                    return i,j\n",
    "                \n",
    "        return None\n",
    "\n",
    "def solve(board):\n",
    "    location=emptyCell(board)\n",
    "    if not location:\n",
    "        return True\n",
    "    row,col=location\n",
    "\n",
    "    count=0\n",
    "    for num in range(1,10):\n",
    "        if(isValid(num,row,col,board)):\n",
    "            board[row,col]=num\n",
    "            if solve(board):\n",
    "                return True\n",
    "            else:\n",
    "                board[row,col]=0\n",
    "\n",
    "    return False\n",
    "\n",
    "def countSolve(board,count):\n",
    "    location=emptyCell(board)\n",
    "    if not location:\n",
    "        count[0]+=1\n",
    "        return\n",
    "    row,col=location\n",
    "    for num in range(1,10):\n",
    "        if(isValid(num,row,col,board)):\n",
    "            board[row,col]=num\n",
    "            if countSolve(board,count):\n",
    "                return True\n",
    "            else:\n",
    "                board[row,col]=0\n",
    "    \n",
    "      \n"
   ]
  },
  {
   "cell_type": "code",
   "execution_count": 93,
   "metadata": {},
   "outputs": [],
   "source": [
    "\n",
    "def generateQuestion(solution,difficulty,count):\n",
    "    if difficulty == \"easy\":\n",
    "        n= np.random.randint(36,39)\n",
    "    elif difficulty == \"medium\":\n",
    "        n = np.random.randint(39,42)\n",
    "    else:\n",
    "        n = np.random.randint(42,46)\n",
    "\n",
    "    question = solution.flatten()\n",
    "    remove=np.random.choice(question.size,n,replace=False)\n",
    "    question[remove]=0\n",
    "    question = question.reshape(solution.shape)\n",
    "    countSolve(question.copy(),count)\n",
    "    return question\n",
    "\n",
    "def generate(board,difficulty=\"easy\"):\n",
    "    solve(fillDiagonal(board))\n",
    "    while(True):\n",
    "        count=[0]\n",
    "        question = generateQuestion(board,\"easy\",count)\n",
    "        if count[0]==1:\n",
    "            return question,board\n",
    "    \n",
    "\n"
   ]
  },
  {
   "cell_type": "code",
   "execution_count": 96,
   "metadata": {},
   "outputs": [
    {
     "name": "stdout",
     "output_type": "stream",
     "text": [
      "[[0 2 0 1 0 4 5 0 0]\n",
      " [9 0 0 5 0 8 1 7 0]\n",
      " [8 0 1 9 0 7 2 0 3]\n",
      " [3 6 0 0 8 0 0 0 7]\n",
      " [2 0 0 0 5 9 6 3 8]\n",
      " [0 0 8 6 0 3 9 0 2]\n",
      " [4 0 5 0 7 0 8 2 0]\n",
      " [0 0 2 8 0 0 0 9 4]\n",
      " [0 0 7 4 0 2 0 6 5]]\n",
      "[[7 2 6 1 3 4 5 8 9]\n",
      " [9 4 3 5 2 8 1 7 6]\n",
      " [8 5 1 9 6 7 2 4 3]\n",
      " [3 6 9 2 8 1 4 5 7]\n",
      " [2 1 4 7 5 9 6 3 8]\n",
      " [5 7 8 6 4 3 9 1 2]\n",
      " [4 9 5 3 7 6 8 2 1]\n",
      " [6 3 2 8 1 5 7 9 4]\n",
      " [1 8 7 4 9 2 3 6 5]]\n"
     ]
    }
   ],
   "source": [
    "board = np.zeros((9,9),dtype=int)\n",
    "question,solution=generate(board.copy(),\"hard\")\n",
    "print(question)\n",
    "print(solution)"
   ]
  },
  {
   "cell_type": "code",
   "execution_count": null,
   "metadata": {},
   "outputs": [],
   "source": []
  }
 ],
 "metadata": {
  "kernelspec": {
   "display_name": "Python 3",
   "language": "python",
   "name": "python3"
  },
  "language_info": {
   "codemirror_mode": {
    "name": "ipython",
    "version": 3
   },
   "file_extension": ".py",
   "mimetype": "text/x-python",
   "name": "python",
   "nbconvert_exporter": "python",
   "pygments_lexer": "ipython3",
   "version": "3.11.6"
  }
 },
 "nbformat": 4,
 "nbformat_minor": 2
}
