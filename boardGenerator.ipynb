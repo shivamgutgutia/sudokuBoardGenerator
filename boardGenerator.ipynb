{
 "cells": [
  {
   "cell_type": "code",
   "execution_count": 25,
   "metadata": {},
   "outputs": [],
   "source": [
    "import numpy as np\n",
    "import matplotlib.pyplot as plt\n",
    "%matplotlib inline\n",
    "from IPython.display import display, clear_output"
   ]
  },
  {
   "cell_type": "code",
   "execution_count": 26,
   "metadata": {},
   "outputs": [],
   "source": [
    "\n",
    "def fillDiagonal(board):\n",
    "    def generateDiagonal():\n",
    "        arr=np.arange(1,10)\n",
    "        for i in range(3):\n",
    "            np.random.shuffle(arr)\n",
    "            yield arr.reshape((3,3))\n",
    "\n",
    "    out=generateDiagonal()\n",
    "    board[:3,:3]=next(out)\n",
    "    board[3:6,3:6]=next(out)\n",
    "    board[6:,6:]=next(out)\n",
    "    return(board)\n"
   ]
  },
  {
   "cell_type": "code",
   "execution_count": 27,
   "metadata": {},
   "outputs": [],
   "source": [
    "def isValid(num,row,col,board):\n",
    "\n",
    "        #row check\n",
    "        rowCheck = num in board[row,:]\n",
    "\n",
    "        #column check\n",
    "        columnCheck = num in board[:,col]\n",
    "\n",
    "        #subgrid check\n",
    "        subgridCheck = num in board[3*(row//3):3*((row//3)+1),3*(col//3):3*((col//3)+1)]\n",
    "\n",
    "        if rowCheck or columnCheck or subgridCheck:\n",
    "            return False\n",
    "        return True\n",
    "\n",
    "def emptyCell(board):\n",
    "        for i in range(9):\n",
    "            for j in range(9):\n",
    "                if board[i,j]==0:\n",
    "                    return i,j\n",
    "                \n",
    "        return None\n",
    "\n",
    "def solve(board):\n",
    "    location=emptyCell(board)\n",
    "    if not location:\n",
    "        return True\n",
    "    row,col=location\n",
    "\n",
    "    count=0\n",
    "    for num in range(1,10):\n",
    "        if(isValid(num,row,col,board)):\n",
    "            board[row,col]=num\n",
    "            if solve(board):\n",
    "                return True\n",
    "            else:\n",
    "                board[row,col]=0\n",
    "\n",
    "    return False\n",
    "\n",
    "def countSolve(board,count):\n",
    "    location=emptyCell(board)\n",
    "    if not location:\n",
    "        count[0]+=1\n",
    "        return\n",
    "    row,col=location\n",
    "    for num in range(1,10):\n",
    "        if(isValid(num,row,col,board)):\n",
    "            board[row,col]=num\n",
    "            if countSolve(board,count):\n",
    "                return True\n",
    "            else:\n",
    "                board[row,col]=0\n",
    "    \n",
    "      \n"
   ]
  },
  {
   "cell_type": "code",
   "execution_count": 28,
   "metadata": {},
   "outputs": [
    {
     "name": "stdout",
     "output_type": "stream",
     "text": [
      "[[1 4 9 2 5 3 6 8 7]\n",
      " [8 6 3 1 4 7 5 2 9]\n",
      " [7 2 5 6 9 8 3 4 1]\n",
      " [2 5 1 7 3 4 9 6 8]\n",
      " [3 8 4 9 1 6 7 5 2]\n",
      " [6 9 7 5 8 2 4 1 3]\n",
      " [5 7 6 8 2 9 1 3 4]\n",
      " [9 3 8 4 6 1 2 7 5]\n",
      " [4 1 2 3 7 5 8 9 6]]\n"
     ]
    }
   ],
   "source": [
    "board = np.zeros((9,9),dtype=int)\n",
    "while(not solve(fillDiagonal(board))):\n",
    "    pass\n",
    "print(board)\n"
   ]
  },
  {
   "cell_type": "code",
   "execution_count": 32,
   "metadata": {},
   "outputs": [
    {
     "name": "stdout",
     "output_type": "stream",
     "text": [
      "[0 0 0 0 5 0 0 8 7 8 0 3 0 0 7 0 2 9 7 2 0 6 0 8 3 4 0 0 0 1 7 3 0 0 0 8 0\n",
      " 0 0 0 0 0 7 5 0 6 9 7 0 0 0 0 1 0 5 0 6 0 0 0 0 3 0 9 3 0 4 0 0 2 7 5 0 0\n",
      " 2 3 0 5 8 9 6]\n"
     ]
    },
    {
     "ename": "IndexError",
     "evalue": "too many indices for array: array is 1-dimensional, but 2 were indexed",
     "output_type": "error",
     "traceback": [
      "\u001b[1;31m---------------------------------------------------------------------------\u001b[0m",
      "\u001b[1;31mIndexError\u001b[0m                                Traceback (most recent call last)",
      "\u001b[1;32mc:\\Users\\shiva\\OneDrive\\Documents\\sudokuBoardGenerator\\boardGenerator.ipynb Cell 5\u001b[0m line \u001b[0;36m1\n\u001b[0;32m     <a href='vscode-notebook-cell:/c%3A/Users/shiva/OneDrive/Documents/sudokuBoardGenerator/boardGenerator.ipynb#W5sZmlsZQ%3D%3D?line=16'>17</a>\u001b[0m \u001b[39mwhile\u001b[39;00m(\u001b[39mTrue\u001b[39;00m):\n\u001b[0;32m     <a href='vscode-notebook-cell:/c%3A/Users/shiva/OneDrive/Documents/sudokuBoardGenerator/boardGenerator.ipynb#W5sZmlsZQ%3D%3D?line=17'>18</a>\u001b[0m     count\u001b[39m=\u001b[39m[\u001b[39m0\u001b[39m]\n\u001b[1;32m---> <a href='vscode-notebook-cell:/c%3A/Users/shiva/OneDrive/Documents/sudokuBoardGenerator/boardGenerator.ipynb#W5sZmlsZQ%3D%3D?line=18'>19</a>\u001b[0m     question \u001b[39m=\u001b[39m generateQuestion(board,\u001b[39m\"\u001b[39;49m\u001b[39measy\u001b[39;49m\u001b[39m\"\u001b[39;49m,count)\n\u001b[0;32m     <a href='vscode-notebook-cell:/c%3A/Users/shiva/OneDrive/Documents/sudokuBoardGenerator/boardGenerator.ipynb#W5sZmlsZQ%3D%3D?line=19'>20</a>\u001b[0m     \u001b[39mif\u001b[39;00m count[\u001b[39m0\u001b[39m]\u001b[39m==\u001b[39m\u001b[39m1\u001b[39m:\n\u001b[0;32m     <a href='vscode-notebook-cell:/c%3A/Users/shiva/OneDrive/Documents/sudokuBoardGenerator/boardGenerator.ipynb#W5sZmlsZQ%3D%3D?line=20'>21</a>\u001b[0m         \u001b[39mprint\u001b[39m(question)\n",
      "\u001b[1;32mc:\\Users\\shiva\\OneDrive\\Documents\\sudokuBoardGenerator\\boardGenerator.ipynb Cell 5\u001b[0m line \u001b[0;36m1\n\u001b[0;32m     <a href='vscode-notebook-cell:/c%3A/Users/shiva/OneDrive/Documents/sudokuBoardGenerator/boardGenerator.ipynb#W5sZmlsZQ%3D%3D?line=11'>12</a>\u001b[0m question\u001b[39m.\u001b[39mreshape((\u001b[39m9\u001b[39m,\u001b[39m9\u001b[39m))\n\u001b[0;32m     <a href='vscode-notebook-cell:/c%3A/Users/shiva/OneDrive/Documents/sudokuBoardGenerator/boardGenerator.ipynb#W5sZmlsZQ%3D%3D?line=12'>13</a>\u001b[0m \u001b[39mprint\u001b[39m(question)\n\u001b[1;32m---> <a href='vscode-notebook-cell:/c%3A/Users/shiva/OneDrive/Documents/sudokuBoardGenerator/boardGenerator.ipynb#W5sZmlsZQ%3D%3D?line=13'>14</a>\u001b[0m countSolve(question\u001b[39m.\u001b[39;49mcopy(),count)\n\u001b[0;32m     <a href='vscode-notebook-cell:/c%3A/Users/shiva/OneDrive/Documents/sudokuBoardGenerator/boardGenerator.ipynb#W5sZmlsZQ%3D%3D?line=14'>15</a>\u001b[0m \u001b[39mreturn\u001b[39;00m question\n",
      "\u001b[1;32mc:\\Users\\shiva\\OneDrive\\Documents\\sudokuBoardGenerator\\boardGenerator.ipynb Cell 5\u001b[0m line \u001b[0;36m4\n\u001b[0;32m     <a href='vscode-notebook-cell:/c%3A/Users/shiva/OneDrive/Documents/sudokuBoardGenerator/boardGenerator.ipynb#W5sZmlsZQ%3D%3D?line=40'>41</a>\u001b[0m \u001b[39mdef\u001b[39;00m \u001b[39mcountSolve\u001b[39m(board,count):\n\u001b[1;32m---> <a href='vscode-notebook-cell:/c%3A/Users/shiva/OneDrive/Documents/sudokuBoardGenerator/boardGenerator.ipynb#W5sZmlsZQ%3D%3D?line=41'>42</a>\u001b[0m     location\u001b[39m=\u001b[39memptyCell(board)\n\u001b[0;32m     <a href='vscode-notebook-cell:/c%3A/Users/shiva/OneDrive/Documents/sudokuBoardGenerator/boardGenerator.ipynb#W5sZmlsZQ%3D%3D?line=42'>43</a>\u001b[0m     \u001b[39mif\u001b[39;00m \u001b[39mnot\u001b[39;00m location:\n\u001b[0;32m     <a href='vscode-notebook-cell:/c%3A/Users/shiva/OneDrive/Documents/sudokuBoardGenerator/boardGenerator.ipynb#W5sZmlsZQ%3D%3D?line=43'>44</a>\u001b[0m         count[\u001b[39m0\u001b[39m]\u001b[39m+\u001b[39m\u001b[39m=\u001b[39m\u001b[39m1\u001b[39m\n",
      "\u001b[1;32mc:\\Users\\shiva\\OneDrive\\Documents\\sudokuBoardGenerator\\boardGenerator.ipynb Cell 5\u001b[0m line \u001b[0;36m1\n\u001b[0;32m     <a href='vscode-notebook-cell:/c%3A/Users/shiva/OneDrive/Documents/sudokuBoardGenerator/boardGenerator.ipynb#W5sZmlsZQ%3D%3D?line=16'>17</a>\u001b[0m \u001b[39mfor\u001b[39;00m i \u001b[39min\u001b[39;00m \u001b[39mrange\u001b[39m(\u001b[39m9\u001b[39m):\n\u001b[0;32m     <a href='vscode-notebook-cell:/c%3A/Users/shiva/OneDrive/Documents/sudokuBoardGenerator/boardGenerator.ipynb#W5sZmlsZQ%3D%3D?line=17'>18</a>\u001b[0m     \u001b[39mfor\u001b[39;00m j \u001b[39min\u001b[39;00m \u001b[39mrange\u001b[39m(\u001b[39m9\u001b[39m):\n\u001b[1;32m---> <a href='vscode-notebook-cell:/c%3A/Users/shiva/OneDrive/Documents/sudokuBoardGenerator/boardGenerator.ipynb#W5sZmlsZQ%3D%3D?line=18'>19</a>\u001b[0m         \u001b[39mif\u001b[39;00m board[i,j]\u001b[39m==\u001b[39m\u001b[39m0\u001b[39m:\n\u001b[0;32m     <a href='vscode-notebook-cell:/c%3A/Users/shiva/OneDrive/Documents/sudokuBoardGenerator/boardGenerator.ipynb#W5sZmlsZQ%3D%3D?line=19'>20</a>\u001b[0m             \u001b[39mreturn\u001b[39;00m i,j\n\u001b[0;32m     <a href='vscode-notebook-cell:/c%3A/Users/shiva/OneDrive/Documents/sudokuBoardGenerator/boardGenerator.ipynb#W5sZmlsZQ%3D%3D?line=21'>22</a>\u001b[0m \u001b[39mreturn\u001b[39;00m \u001b[39mNone\u001b[39;00m\n",
      "\u001b[1;31mIndexError\u001b[0m: too many indices for array: array is 1-dimensional, but 2 were indexed"
     ]
    }
   ],
   "source": [
    "\n",
    "def generateQuestion(solution,difficulty,count):\n",
    "    if difficulty == \"easy\":\n",
    "        n= np.random.randint(40,46)\n",
    "    elif difficulty == \"medium\":\n",
    "        n = np.random.randint(46,51)\n",
    "    else:\n",
    "        n = np.random.randint(51,56)\n",
    "\n",
    "    question = solution.flatten()\n",
    "    remove=np.random.choice(question.size,n,replace=False)\n",
    "    question[remove]=0\n",
    "    question = question.reshape((9,9))\n",
    "    print(question)\n",
    "    countSolve(question.copy(),count)\n",
    "    return question\n",
    "\n",
    "while(True):\n",
    "    count=[0]\n",
    "    question = generateQuestion(board,\"easy\",count)\n",
    "    if count[0]==1:\n",
    "        print(question)\n",
    "    \n",
    "\n"
   ]
  },
  {
   "cell_type": "code",
   "execution_count": null,
   "metadata": {},
   "outputs": [],
   "source": []
  }
 ],
 "metadata": {
  "kernelspec": {
   "display_name": "Python 3",
   "language": "python",
   "name": "python3"
  },
  "language_info": {
   "codemirror_mode": {
    "name": "ipython",
    "version": 3
   },
   "file_extension": ".py",
   "mimetype": "text/x-python",
   "name": "python",
   "nbconvert_exporter": "python",
   "pygments_lexer": "ipython3",
   "version": "3.11.6"
  }
 },
 "nbformat": 4,
 "nbformat_minor": 2
}
