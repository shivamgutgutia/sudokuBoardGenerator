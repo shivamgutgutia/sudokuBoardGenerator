{
 "cells": [
  {
   "cell_type": "code",
   "execution_count": 25,
   "metadata": {},
   "outputs": [],
   "source": [
    "import numpy as np\n",
    "import matplotlib.pyplot as plt\n",
    "%matplotlib inline\n",
    "from IPython.display import display, clear_output"
   ]
  },
  {
   "cell_type": "code",
   "execution_count": 22,
   "metadata": {},
   "outputs": [],
   "source": [
    "\n",
    "def fillDiagonal(board):\n",
    "    def generateDiagonal():\n",
    "        arr=np.arange(1,10)\n",
    "        for i in range(3):\n",
    "            np.random.shuffle(arr)\n",
    "            yield arr.reshape((3,3))\n",
    "\n",
    "    out=generateDiagonal()\n",
    "    board[:3,:3]=next(out)\n",
    "    board[3:6,3:6]=next(out)\n",
    "    board[6:,6:]=next(out)\n",
    "    return(board)\n"
   ]
  },
  {
   "cell_type": "code",
   "execution_count": 28,
   "metadata": {},
   "outputs": [],
   "source": [
    "def solve(board):\n",
    "    def isValid(num,row,col,board):\n",
    "\n",
    "        #row check\n",
    "        rowCheck = num in board[row,:]\n",
    "\n",
    "        #column check\n",
    "        columnCheck = num in board[:,col]\n",
    "\n",
    "        #subgrid check\n",
    "        subgridCheck = num in board[3*(row//3):3*((row//3)+1),3*(col//3):3*((col//3)+1)]\n",
    "\n",
    "        if rowCheck or columnCheck or subgridCheck:\n",
    "            return False\n",
    "        return True \n",
    "    \n",
    "    def emptyCell(board):\n",
    "        for i in range(len(board)):\n",
    "            for j in range(len(board[0,:])):\n",
    "                if board[i,j]==0:\n",
    "                    return i,j\n",
    "                \n",
    "        return None\n",
    "\n",
    "    \n",
    "    def solveBoard(board):\n",
    "        clear_output(wait=True)\n",
    "        display(board)\n",
    "\n",
    "\n",
    "        location=emptyCell(board)\n",
    "        if not location:\n",
    "            return True\n",
    "        row,col=location\n",
    "\n",
    "        for num in range(1,10):\n",
    "            if(isValid(num,row,col,board)):\n",
    "                board[row,col]=num\n",
    "                solveBoard(board)\n",
    "                board[row,col]=0\n",
    "\n",
    "        return False\n",
    "    \n",
    "    solveBoard(board)\n",
    "    return board   \n"
   ]
  },
  {
   "cell_type": "code",
   "execution_count": 35,
   "metadata": {},
   "outputs": [
    {
     "name": "stdout",
     "output_type": "stream",
     "text": [
      "True\n"
     ]
    }
   ],
   "source": [
    "board = np.zeros((9,9),dtype=int)\n",
    "#print(fillDiagonal(board))\n",
    "#print(solve(board))\n"
   ]
  },
  {
   "cell_type": "code",
   "execution_count": 13,
   "metadata": {},
   "outputs": [
    {
     "data": {
      "text/plain": [
       "array([[5, 7, 9, 1, 4, 3, 6, 8, 2],\n",
       "       [2, 3, 1, 6, 8, 9, 4, 5, 7],\n",
       "       [8, 4, 6, 7, 2, 5, 1, 3, 9],\n",
       "       [6, 1, 2, 4, 5, 7, 8, 9, 3],\n",
       "       [9, 8, 4, 3, 1, 2, 5, 7, 6],\n",
       "       [3, 5, 7, 9, 6, 8, 2, 4, 1],\n",
       "       [1, 9, 5, 2, 0, 0, 7, 6, 8],\n",
       "       [0, 0, 0, 0, 0, 0, 3, 2, 5],\n",
       "       [0, 0, 0, 0, 0, 0, 9, 1, 4]])"
      ]
     },
     "execution_count": 13,
     "metadata": {},
     "output_type": "execute_result"
    }
   ],
   "source": [
    "board"
   ]
  },
  {
   "cell_type": "code",
   "execution_count": null,
   "metadata": {},
   "outputs": [],
   "source": []
  }
 ],
 "metadata": {
  "kernelspec": {
   "display_name": "Python 3",
   "language": "python",
   "name": "python3"
  },
  "language_info": {
   "codemirror_mode": {
    "name": "ipython",
    "version": 3
   },
   "file_extension": ".py",
   "mimetype": "text/x-python",
   "name": "python",
   "nbconvert_exporter": "python",
   "pygments_lexer": "ipython3",
   "version": "3.11.6"
  }
 },
 "nbformat": 4,
 "nbformat_minor": 2
}
