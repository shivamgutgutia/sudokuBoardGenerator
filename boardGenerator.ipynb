{
 "cells": [
  {
   "cell_type": "code",
   "execution_count": 1,
   "metadata": {},
   "outputs": [],
   "source": [
    "import numpy as np\n",
    "import matplotlib.pyplot as plt\n",
    "%matplotlib inline\n",
    "from IPython.display import display, clear_output"
   ]
  },
  {
   "cell_type": "code",
   "execution_count": 2,
   "metadata": {},
   "outputs": [],
   "source": [
    "\n",
    "def fillDiagonal(board):\n",
    "    def generateDiagonal():\n",
    "        arr=np.arange(1,10)\n",
    "        for i in range(3):\n",
    "            np.random.shuffle(arr)\n",
    "            yield arr.reshape((3,3))\n",
    "\n",
    "    out=generateDiagonal()\n",
    "    board[:3,:3]=next(out)\n",
    "    board[3:6,3:6]=next(out)\n",
    "    board[6:,6:]=next(out)\n",
    "    return(board)\n"
   ]
  },
  {
   "cell_type": "code",
   "execution_count": 3,
   "metadata": {},
   "outputs": [],
   "source": [
    "def solve(board):\n",
    "    def isValid(num,row,col,board):\n",
    "\n",
    "        #row check\n",
    "        rowCheck = num in board[row,:]\n",
    "\n",
    "        #column check\n",
    "        columnCheck = num in board[:,col]\n",
    "\n",
    "        #subgrid check\n",
    "        subgridCheck = num in board[3*(row//3):3*((row//3)+1),3*(col//3):3*((col//3)+1)]\n",
    "\n",
    "        if rowCheck or columnCheck or subgridCheck:\n",
    "            return False\n",
    "        return True \n",
    "    \n",
    "    def emptyCell(board):\n",
    "        for i in range(9):\n",
    "            for j in range(9):\n",
    "                if board[i,j]==0:\n",
    "                    return i,j\n",
    "                \n",
    "        return None\n",
    "\n",
    "    \n",
    "    def solveBoard(board):\n",
    "        clear_output(wait=True)\n",
    "        display(board)\n",
    "\n",
    "\n",
    "        location=emptyCell(board)\n",
    "        if not location:\n",
    "            return True\n",
    "        row,col=location\n",
    "\n",
    "        for num in range(1,10):\n",
    "            if(isValid(num,row,col,board)):\n",
    "                board[row,col]=num\n",
    "                solveBoard(board)\n",
    "                board[row,col]=0\n",
    "\n",
    "        return False\n",
    "    \n",
    "    solveBoard(board)\n",
    "    return board   \n"
   ]
  },
  {
   "cell_type": "code",
   "execution_count": 4,
   "metadata": {},
   "outputs": [
    {
     "data": {
      "text/plain": [
       "array([[1, 2, 3, 4, 5, 6, 7, 8, 9],\n",
       "       [4, 5, 6, 7, 8, 9, 1, 2, 3],\n",
       "       [7, 8, 9, 1, 2, 3, 4, 5, 6],\n",
       "       [2, 1, 4, 3, 6, 5, 8, 9, 7],\n",
       "       [3, 6, 5, 8, 9, 7, 2, 1, 4],\n",
       "       [8, 9, 7, 2, 1, 4, 3, 6, 5],\n",
       "       [5, 7, 2, 6, 3, 1, 9, 4, 8],\n",
       "       [9, 4, 1, 5, 7, 2, 0, 0, 0],\n",
       "       [0, 0, 0, 0, 0, 0, 0, 0, 0]])"
      ]
     },
     "metadata": {},
     "output_type": "display_data"
    },
    {
     "ename": "KeyboardInterrupt",
     "evalue": "",
     "output_type": "error",
     "traceback": [
      "\u001b[1;31m---------------------------------------------------------------------------\u001b[0m",
      "\u001b[1;31mKeyboardInterrupt\u001b[0m                         Traceback (most recent call last)",
      "\u001b[1;32mc:\\Users\\shiva\\OneDrive\\Documents\\sudokuBoardGenerator\\boardGenerator.ipynb Cell 4\u001b[0m line \u001b[0;36m3\n\u001b[0;32m      <a href='vscode-notebook-cell:/c%3A/Users/shiva/OneDrive/Documents/sudokuBoardGenerator/boardGenerator.ipynb#W3sZmlsZQ%3D%3D?line=0'>1</a>\u001b[0m board \u001b[39m=\u001b[39m np\u001b[39m.\u001b[39mzeros((\u001b[39m9\u001b[39m,\u001b[39m9\u001b[39m),dtype\u001b[39m=\u001b[39m\u001b[39mint\u001b[39m)\n\u001b[0;32m      <a href='vscode-notebook-cell:/c%3A/Users/shiva/OneDrive/Documents/sudokuBoardGenerator/boardGenerator.ipynb#W3sZmlsZQ%3D%3D?line=1'>2</a>\u001b[0m \u001b[39m#print(fillDiagonal(board))\u001b[39;00m\n\u001b[1;32m----> <a href='vscode-notebook-cell:/c%3A/Users/shiva/OneDrive/Documents/sudokuBoardGenerator/boardGenerator.ipynb#W3sZmlsZQ%3D%3D?line=2'>3</a>\u001b[0m \u001b[39mprint\u001b[39m(solve(board))\n",
      "\u001b[1;32mc:\\Users\\shiva\\OneDrive\\Documents\\sudokuBoardGenerator\\boardGenerator.ipynb Cell 4\u001b[0m line \u001b[0;36m4\n\u001b[0;32m     <a href='vscode-notebook-cell:/c%3A/Users/shiva/OneDrive/Documents/sudokuBoardGenerator/boardGenerator.ipynb#W3sZmlsZQ%3D%3D?line=39'>40</a>\u001b[0m             board[row,col]\u001b[39m=\u001b[39m\u001b[39m0\u001b[39m\n\u001b[0;32m     <a href='vscode-notebook-cell:/c%3A/Users/shiva/OneDrive/Documents/sudokuBoardGenerator/boardGenerator.ipynb#W3sZmlsZQ%3D%3D?line=41'>42</a>\u001b[0m     \u001b[39mreturn\u001b[39;00m \u001b[39mFalse\u001b[39;00m\n\u001b[1;32m---> <a href='vscode-notebook-cell:/c%3A/Users/shiva/OneDrive/Documents/sudokuBoardGenerator/boardGenerator.ipynb#W3sZmlsZQ%3D%3D?line=43'>44</a>\u001b[0m solveBoard(board)\n\u001b[0;32m     <a href='vscode-notebook-cell:/c%3A/Users/shiva/OneDrive/Documents/sudokuBoardGenerator/boardGenerator.ipynb#W3sZmlsZQ%3D%3D?line=44'>45</a>\u001b[0m \u001b[39mreturn\u001b[39;00m board\n",
      "\u001b[1;32mc:\\Users\\shiva\\OneDrive\\Documents\\sudokuBoardGenerator\\boardGenerator.ipynb Cell 4\u001b[0m line \u001b[0;36m3\n\u001b[0;32m     <a href='vscode-notebook-cell:/c%3A/Users/shiva/OneDrive/Documents/sudokuBoardGenerator/boardGenerator.ipynb#W3sZmlsZQ%3D%3D?line=36'>37</a>\u001b[0m     \u001b[39mif\u001b[39;00m(isValid(num,row,col,board)):\n\u001b[0;32m     <a href='vscode-notebook-cell:/c%3A/Users/shiva/OneDrive/Documents/sudokuBoardGenerator/boardGenerator.ipynb#W3sZmlsZQ%3D%3D?line=37'>38</a>\u001b[0m         board[row,col]\u001b[39m=\u001b[39mnum\n\u001b[1;32m---> <a href='vscode-notebook-cell:/c%3A/Users/shiva/OneDrive/Documents/sudokuBoardGenerator/boardGenerator.ipynb#W3sZmlsZQ%3D%3D?line=38'>39</a>\u001b[0m         solveBoard(board)\n\u001b[0;32m     <a href='vscode-notebook-cell:/c%3A/Users/shiva/OneDrive/Documents/sudokuBoardGenerator/boardGenerator.ipynb#W3sZmlsZQ%3D%3D?line=39'>40</a>\u001b[0m         board[row,col]\u001b[39m=\u001b[39m\u001b[39m0\u001b[39m\n\u001b[0;32m     <a href='vscode-notebook-cell:/c%3A/Users/shiva/OneDrive/Documents/sudokuBoardGenerator/boardGenerator.ipynb#W3sZmlsZQ%3D%3D?line=41'>42</a>\u001b[0m \u001b[39mreturn\u001b[39;00m \u001b[39mFalse\u001b[39;00m\n",
      "\u001b[1;32mc:\\Users\\shiva\\OneDrive\\Documents\\sudokuBoardGenerator\\boardGenerator.ipynb Cell 4\u001b[0m line \u001b[0;36m3\n\u001b[0;32m     <a href='vscode-notebook-cell:/c%3A/Users/shiva/OneDrive/Documents/sudokuBoardGenerator/boardGenerator.ipynb#W3sZmlsZQ%3D%3D?line=36'>37</a>\u001b[0m     \u001b[39mif\u001b[39;00m(isValid(num,row,col,board)):\n\u001b[0;32m     <a href='vscode-notebook-cell:/c%3A/Users/shiva/OneDrive/Documents/sudokuBoardGenerator/boardGenerator.ipynb#W3sZmlsZQ%3D%3D?line=37'>38</a>\u001b[0m         board[row,col]\u001b[39m=\u001b[39mnum\n\u001b[1;32m---> <a href='vscode-notebook-cell:/c%3A/Users/shiva/OneDrive/Documents/sudokuBoardGenerator/boardGenerator.ipynb#W3sZmlsZQ%3D%3D?line=38'>39</a>\u001b[0m         solveBoard(board)\n\u001b[0;32m     <a href='vscode-notebook-cell:/c%3A/Users/shiva/OneDrive/Documents/sudokuBoardGenerator/boardGenerator.ipynb#W3sZmlsZQ%3D%3D?line=39'>40</a>\u001b[0m         board[row,col]\u001b[39m=\u001b[39m\u001b[39m0\u001b[39m\n\u001b[0;32m     <a href='vscode-notebook-cell:/c%3A/Users/shiva/OneDrive/Documents/sudokuBoardGenerator/boardGenerator.ipynb#W3sZmlsZQ%3D%3D?line=41'>42</a>\u001b[0m \u001b[39mreturn\u001b[39;00m \u001b[39mFalse\u001b[39;00m\n",
      "    \u001b[1;31m[... skipping similar frames: solve.<locals>.solveBoard at line 39 (67 times)]\u001b[0m\n",
      "\u001b[1;32mc:\\Users\\shiva\\OneDrive\\Documents\\sudokuBoardGenerator\\boardGenerator.ipynb Cell 4\u001b[0m line \u001b[0;36m3\n\u001b[0;32m     <a href='vscode-notebook-cell:/c%3A/Users/shiva/OneDrive/Documents/sudokuBoardGenerator/boardGenerator.ipynb#W3sZmlsZQ%3D%3D?line=36'>37</a>\u001b[0m     \u001b[39mif\u001b[39;00m(isValid(num,row,col,board)):\n\u001b[0;32m     <a href='vscode-notebook-cell:/c%3A/Users/shiva/OneDrive/Documents/sudokuBoardGenerator/boardGenerator.ipynb#W3sZmlsZQ%3D%3D?line=37'>38</a>\u001b[0m         board[row,col]\u001b[39m=\u001b[39mnum\n\u001b[1;32m---> <a href='vscode-notebook-cell:/c%3A/Users/shiva/OneDrive/Documents/sudokuBoardGenerator/boardGenerator.ipynb#W3sZmlsZQ%3D%3D?line=38'>39</a>\u001b[0m         solveBoard(board)\n\u001b[0;32m     <a href='vscode-notebook-cell:/c%3A/Users/shiva/OneDrive/Documents/sudokuBoardGenerator/boardGenerator.ipynb#W3sZmlsZQ%3D%3D?line=39'>40</a>\u001b[0m         board[row,col]\u001b[39m=\u001b[39m\u001b[39m0\u001b[39m\n\u001b[0;32m     <a href='vscode-notebook-cell:/c%3A/Users/shiva/OneDrive/Documents/sudokuBoardGenerator/boardGenerator.ipynb#W3sZmlsZQ%3D%3D?line=41'>42</a>\u001b[0m \u001b[39mreturn\u001b[39;00m \u001b[39mFalse\u001b[39;00m\n",
      "\u001b[1;32mc:\\Users\\shiva\\OneDrive\\Documents\\sudokuBoardGenerator\\boardGenerator.ipynb Cell 4\u001b[0m line \u001b[0;36m2\n\u001b[0;32m     <a href='vscode-notebook-cell:/c%3A/Users/shiva/OneDrive/Documents/sudokuBoardGenerator/boardGenerator.ipynb#W3sZmlsZQ%3D%3D?line=25'>26</a>\u001b[0m \u001b[39mdef\u001b[39;00m \u001b[39msolveBoard\u001b[39m(board):\n\u001b[1;32m---> <a href='vscode-notebook-cell:/c%3A/Users/shiva/OneDrive/Documents/sudokuBoardGenerator/boardGenerator.ipynb#W3sZmlsZQ%3D%3D?line=26'>27</a>\u001b[0m     clear_output(wait\u001b[39m=\u001b[39;49m\u001b[39mTrue\u001b[39;49;00m)\n\u001b[0;32m     <a href='vscode-notebook-cell:/c%3A/Users/shiva/OneDrive/Documents/sudokuBoardGenerator/boardGenerator.ipynb#W3sZmlsZQ%3D%3D?line=27'>28</a>\u001b[0m     display(board)\n\u001b[0;32m     <a href='vscode-notebook-cell:/c%3A/Users/shiva/OneDrive/Documents/sudokuBoardGenerator/boardGenerator.ipynb#W3sZmlsZQ%3D%3D?line=30'>31</a>\u001b[0m     location\u001b[39m=\u001b[39memptyCell(board)\n",
      "File \u001b[1;32m~\\AppData\\Local\\Packages\\PythonSoftwareFoundation.Python.3.11_qbz5n2kfra8p0\\LocalCache\\local-packages\\Python311\\site-packages\\IPython\\core\\display_functions.py:386\u001b[0m, in \u001b[0;36mclear_output\u001b[1;34m(wait)\u001b[0m\n\u001b[0;32m    384\u001b[0m \u001b[39mfrom\u001b[39;00m \u001b[39mIPython\u001b[39;00m\u001b[39m.\u001b[39;00m\u001b[39mcore\u001b[39;00m\u001b[39m.\u001b[39;00m\u001b[39minteractiveshell\u001b[39;00m \u001b[39mimport\u001b[39;00m InteractiveShell\n\u001b[0;32m    385\u001b[0m \u001b[39mif\u001b[39;00m InteractiveShell\u001b[39m.\u001b[39minitialized():\n\u001b[1;32m--> 386\u001b[0m     InteractiveShell\u001b[39m.\u001b[39;49minstance()\u001b[39m.\u001b[39;49mdisplay_pub\u001b[39m.\u001b[39;49mclear_output(wait)\n\u001b[0;32m    387\u001b[0m \u001b[39melse\u001b[39;00m:\n\u001b[0;32m    388\u001b[0m     \u001b[39mprint\u001b[39m(\u001b[39m'\u001b[39m\u001b[39m\\033\u001b[39;00m\u001b[39m[2K\u001b[39m\u001b[39m\\r\u001b[39;00m\u001b[39m'\u001b[39m, end\u001b[39m=\u001b[39m\u001b[39m'\u001b[39m\u001b[39m'\u001b[39m)\n",
      "File \u001b[1;32m~\\AppData\\Local\\Packages\\PythonSoftwareFoundation.Python.3.11_qbz5n2kfra8p0\\LocalCache\\local-packages\\Python311\\site-packages\\ipykernel\\zmqshell.py:146\u001b[0m, in \u001b[0;36mZMQDisplayPublisher.clear_output\u001b[1;34m(self, wait)\u001b[0m\n\u001b[0;32m    135\u001b[0m \u001b[39m\u001b[39m\u001b[39m\"\"\"Clear output associated with the current execution (cell).\u001b[39;00m\n\u001b[0;32m    136\u001b[0m \n\u001b[0;32m    137\u001b[0m \u001b[39mParameters\u001b[39;00m\n\u001b[1;32m   (...)\u001b[0m\n\u001b[0;32m    143\u001b[0m \n\u001b[0;32m    144\u001b[0m \u001b[39m\"\"\"\u001b[39;00m\n\u001b[0;32m    145\u001b[0m content \u001b[39m=\u001b[39m \u001b[39mdict\u001b[39m(wait\u001b[39m=\u001b[39mwait)\n\u001b[1;32m--> 146\u001b[0m \u001b[39mself\u001b[39;49m\u001b[39m.\u001b[39;49m_flush_streams()\n\u001b[0;32m    147\u001b[0m msg \u001b[39m=\u001b[39m \u001b[39mself\u001b[39m\u001b[39m.\u001b[39msession\u001b[39m.\u001b[39mmsg(\u001b[39m\"\u001b[39m\u001b[39mclear_output\u001b[39m\u001b[39m\"\u001b[39m, json_clean(content), parent\u001b[39m=\u001b[39m\u001b[39mself\u001b[39m\u001b[39m.\u001b[39mparent_header)\n\u001b[0;32m    149\u001b[0m \u001b[39m# see publish() for details on how this works\u001b[39;00m\n",
      "File \u001b[1;32m~\\AppData\\Local\\Packages\\PythonSoftwareFoundation.Python.3.11_qbz5n2kfra8p0\\LocalCache\\local-packages\\Python311\\site-packages\\ipykernel\\zmqshell.py:65\u001b[0m, in \u001b[0;36mZMQDisplayPublisher._flush_streams\u001b[1;34m(self)\u001b[0m\n\u001b[0;32m     63\u001b[0m \u001b[39mdef\u001b[39;00m \u001b[39m_flush_streams\u001b[39m(\u001b[39mself\u001b[39m):\n\u001b[0;32m     64\u001b[0m \u001b[39m    \u001b[39m\u001b[39m\"\"\"flush IO Streams prior to display\"\"\"\u001b[39;00m\n\u001b[1;32m---> 65\u001b[0m     sys\u001b[39m.\u001b[39;49mstdout\u001b[39m.\u001b[39;49mflush()\n\u001b[0;32m     66\u001b[0m     sys\u001b[39m.\u001b[39mstderr\u001b[39m.\u001b[39mflush()\n",
      "File \u001b[1;32m~\\AppData\\Local\\Packages\\PythonSoftwareFoundation.Python.3.11_qbz5n2kfra8p0\\LocalCache\\local-packages\\Python311\\site-packages\\ipykernel\\iostream.py:564\u001b[0m, in \u001b[0;36mOutStream.flush\u001b[1;34m(self)\u001b[0m\n\u001b[0;32m    562\u001b[0m     \u001b[39mself\u001b[39m\u001b[39m.\u001b[39mpub_thread\u001b[39m.\u001b[39mschedule(evt\u001b[39m.\u001b[39mset)\n\u001b[0;32m    563\u001b[0m     \u001b[39m# and give a timeout to avoid\u001b[39;00m\n\u001b[1;32m--> 564\u001b[0m     \u001b[39mif\u001b[39;00m \u001b[39mnot\u001b[39;00m evt\u001b[39m.\u001b[39;49mwait(\u001b[39mself\u001b[39;49m\u001b[39m.\u001b[39;49mflush_timeout):\n\u001b[0;32m    565\u001b[0m         \u001b[39m# write directly to __stderr__ instead of warning because\u001b[39;00m\n\u001b[0;32m    566\u001b[0m         \u001b[39m# if this is happening sys.stderr may be the problem.\u001b[39;00m\n\u001b[0;32m    567\u001b[0m         \u001b[39mprint\u001b[39m(\u001b[39m\"\u001b[39m\u001b[39mIOStream.flush timed out\u001b[39m\u001b[39m\"\u001b[39m, file\u001b[39m=\u001b[39msys\u001b[39m.\u001b[39m__stderr__)\n\u001b[0;32m    568\u001b[0m \u001b[39melse\u001b[39;00m:\n",
      "File \u001b[1;32mC:\\Program Files\\WindowsApps\\PythonSoftwareFoundation.Python.3.11_3.11.1776.0_x64__qbz5n2kfra8p0\\Lib\\threading.py:629\u001b[0m, in \u001b[0;36mEvent.wait\u001b[1;34m(self, timeout)\u001b[0m\n\u001b[0;32m    627\u001b[0m signaled \u001b[39m=\u001b[39m \u001b[39mself\u001b[39m\u001b[39m.\u001b[39m_flag\n\u001b[0;32m    628\u001b[0m \u001b[39mif\u001b[39;00m \u001b[39mnot\u001b[39;00m signaled:\n\u001b[1;32m--> 629\u001b[0m     signaled \u001b[39m=\u001b[39m \u001b[39mself\u001b[39;49m\u001b[39m.\u001b[39;49m_cond\u001b[39m.\u001b[39;49mwait(timeout)\n\u001b[0;32m    630\u001b[0m \u001b[39mreturn\u001b[39;00m signaled\n",
      "File \u001b[1;32mC:\\Program Files\\WindowsApps\\PythonSoftwareFoundation.Python.3.11_3.11.1776.0_x64__qbz5n2kfra8p0\\Lib\\threading.py:331\u001b[0m, in \u001b[0;36mCondition.wait\u001b[1;34m(self, timeout)\u001b[0m\n\u001b[0;32m    329\u001b[0m \u001b[39melse\u001b[39;00m:\n\u001b[0;32m    330\u001b[0m     \u001b[39mif\u001b[39;00m timeout \u001b[39m>\u001b[39m \u001b[39m0\u001b[39m:\n\u001b[1;32m--> 331\u001b[0m         gotit \u001b[39m=\u001b[39m waiter\u001b[39m.\u001b[39;49macquire(\u001b[39mTrue\u001b[39;49;00m, timeout)\n\u001b[0;32m    332\u001b[0m     \u001b[39melse\u001b[39;00m:\n\u001b[0;32m    333\u001b[0m         gotit \u001b[39m=\u001b[39m waiter\u001b[39m.\u001b[39macquire(\u001b[39mFalse\u001b[39;00m)\n",
      "\u001b[1;31mKeyboardInterrupt\u001b[0m: "
     ]
    }
   ],
   "source": [
    "board = np.zeros((9,9),dtype=int)\n",
    "#print(fillDiagonal(board))\n",
    "print(solve(board))\n"
   ]
  },
  {
   "cell_type": "code",
   "execution_count": null,
   "metadata": {},
   "outputs": [
    {
     "data": {
      "text/plain": [
       "array([[5, 7, 9, 1, 4, 3, 6, 8, 2],\n",
       "       [2, 3, 1, 6, 8, 9, 4, 5, 7],\n",
       "       [8, 4, 6, 7, 2, 5, 1, 3, 9],\n",
       "       [6, 1, 2, 4, 5, 7, 8, 9, 3],\n",
       "       [9, 8, 4, 3, 1, 2, 5, 7, 6],\n",
       "       [3, 5, 7, 9, 6, 8, 2, 4, 1],\n",
       "       [1, 9, 5, 2, 0, 0, 7, 6, 8],\n",
       "       [0, 0, 0, 0, 0, 0, 3, 2, 5],\n",
       "       [0, 0, 0, 0, 0, 0, 9, 1, 4]])"
      ]
     },
     "execution_count": 13,
     "metadata": {},
     "output_type": "execute_result"
    }
   ],
   "source": [
    "board"
   ]
  },
  {
   "cell_type": "code",
   "execution_count": null,
   "metadata": {},
   "outputs": [],
   "source": []
  }
 ],
 "metadata": {
  "kernelspec": {
   "display_name": "Python 3",
   "language": "python",
   "name": "python3"
  },
  "language_info": {
   "codemirror_mode": {
    "name": "ipython",
    "version": 3
   },
   "file_extension": ".py",
   "mimetype": "text/x-python",
   "name": "python",
   "nbconvert_exporter": "python",
   "pygments_lexer": "ipython3",
   "version": "3.11.6"
  }
 },
 "nbformat": 4,
 "nbformat_minor": 2
}
